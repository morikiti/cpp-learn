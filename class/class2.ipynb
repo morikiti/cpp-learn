{
 "cells": [
  {
   "cell_type": "code",
   "execution_count": 1,
   "metadata": {},
   "outputs": [],
   "source": [
    "class A:\n",
    "    def __init__(self,a,b):\n",
    "        self.a = a\n",
    "        self.b = b\n",
    "    \n",
    "    def __call__(self,c):\n",
    "        print(\"A-call\")\n",
    "        print(c)"
   ]
  },
  {
   "cell_type": "code",
   "execution_count": 3,
   "metadata": {},
   "outputs": [],
   "source": [
    "\n",
    "class B(A):\n",
    "    def __init__(self,c,d):\n",
    "        super(B,self).__init__(a,b)\n",
    "        self.c = c\n",
    "        self.d = d\n",
    "    \n",
    "    def __call__(self,e):\n",
    "        print(\"B--call\")\n",
    "        print(e)\n",
    "        print(\"{} {} {} {}\".format(self.a,self.b,self.c,self.d))\n",
    "\n"
   ]
  },
  {
   "cell_type": "code",
   "execution_count": 7,
   "metadata": {},
   "outputs": [
    {
     "name": "stdout",
     "output_type": "stream",
     "text": [
      "A-call\n",
      "2\n",
      "B--call\n",
      "5454\n",
      "4 5 323 323\n"
     ]
    }
   ],
   "source": [
    "a=A(2,3)\n",
    "#call関数\n",
    "a(2)\n",
    "b = B(4,5,323,323)\n",
    "b(5454)"
   ]
  }
 ],
 "metadata": {
  "interpreter": {
   "hash": "31f2aee4e71d21fbe5cf8b01ff0e069b9275f58929596ceb00d14d90e3e16cd6"
  },
  "kernelspec": {
   "display_name": "Python 3.8.10 64-bit",
   "language": "python",
   "name": "python3"
  },
  "language_info": {
   "codemirror_mode": {
    "name": "ipython",
    "version": 3
   },
   "file_extension": ".py",
   "mimetype": "text/x-python",
   "name": "python",
   "nbconvert_exporter": "python",
   "pygments_lexer": "ipython3",
   "version": "3.8.10"
  },
  "orig_nbformat": 4
 },
 "nbformat": 4,
 "nbformat_minor": 2
}
